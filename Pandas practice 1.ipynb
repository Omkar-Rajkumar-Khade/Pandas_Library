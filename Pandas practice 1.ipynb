{
 "cells": [
  {
   "cell_type": "markdown",
   "id": "af5fe360",
   "metadata": {},
   "source": [
    "#  Series Data Scructure"
   ]
  },
  {
   "cell_type": "markdown",
   "id": "58320a56",
   "metadata": {},
   "source": [
    "## Some Basic Operations"
   ]
  },
  {
   "cell_type": "code",
   "execution_count": 1,
   "id": "9b7af521",
   "metadata": {},
   "outputs": [],
   "source": [
    "import pandas as pd\n",
    "import numpy as np"
   ]
  },
  {
   "cell_type": "code",
   "execution_count": 2,
   "id": "0d92f3bb",
   "metadata": {},
   "outputs": [
    {
     "data": {
      "text/plain": [
       "'1.4.2'"
      ]
     },
     "execution_count": 2,
     "metadata": {},
     "output_type": "execute_result"
    }
   ],
   "source": [
    "#to check pandas version\n",
    "pd.__version__"
   ]
  },
  {
   "cell_type": "code",
   "execution_count": 3,
   "id": "0444563e",
   "metadata": {},
   "outputs": [
    {
     "name": "stdout",
     "output_type": "stream",
     "text": [
      "Series([], dtype: float64)\n"
     ]
    },
    {
     "name": "stderr",
     "output_type": "stream",
     "text": [
      "C:\\Users\\Omkar Khade\\AppData\\Local\\Temp\\ipykernel_15844\\603274757.py:3: FutureWarning: The default dtype for empty Series will be 'object' instead of 'float64' in a future version. Specify a dtype explicitly to silence this warning.\n",
      "  s1 = pd.Series()\n"
     ]
    }
   ],
   "source": [
    "#Create an Empty Series\n",
    "import pandas as pd\n",
    "s1 = pd.Series()\n",
    "print(s1)"
   ]
  },
  {
   "cell_type": "code",
   "execution_count": 4,
   "id": "1d4b85d4",
   "metadata": {},
   "outputs": [
    {
     "name": "stdout",
     "output_type": "stream",
     "text": [
      "0    5\n",
      "dtype: int64\n"
     ]
    }
   ],
   "source": [
    "#create series data structure from scalar\n",
    "scalar = pd.Series(5)\n",
    "print(scalar)"
   ]
  },
  {
   "cell_type": "code",
   "execution_count": 5,
   "id": "e5a6c04c",
   "metadata": {},
   "outputs": [
    {
     "name": "stdout",
     "output_type": "stream",
     "text": [
      "0               1\n",
      "1               2\n",
      "2              -3\n",
      "3             0.6\n",
      "4    string_value\n",
      "dtype: object\n"
     ]
    }
   ],
   "source": [
    "#create series data structure from list\n",
    "list1=[1,2,-3,0.6,'string_value']\n",
    "series1=pd.Series(list1)\n",
    "print(series1)"
   ]
  },
  {
   "cell_type": "code",
   "execution_count": 6,
   "id": "97613206",
   "metadata": {},
   "outputs": [
    {
     "data": {
      "text/plain": [
       "pandas.core.series.Series"
      ]
     },
     "execution_count": 6,
     "metadata": {},
     "output_type": "execute_result"
    }
   ],
   "source": [
    "type(series1)"
   ]
  },
  {
   "cell_type": "code",
   "execution_count": 7,
   "id": "b3449f03",
   "metadata": {},
   "outputs": [
    {
     "name": "stdout",
     "output_type": "stream",
     "text": [
      "a    0.0\n",
      "b    1.0\n",
      "c    2.0\n",
      "dtype: float64\n"
     ]
    }
   ],
   "source": [
    "#Create a Series from dict\n",
    "data = {'a' : 0., 'b' : 1., 'c' : 2.}\n",
    "s2 = pd.Series(data)\n",
    "print(s2)"
   ]
  },
  {
   "cell_type": "code",
   "execution_count": 8,
   "id": "c0b3ac0d",
   "metadata": {},
   "outputs": [
    {
     "name": "stdout",
     "output_type": "stream",
     "text": [
      "0    5\n",
      "1    5\n",
      "2    5\n",
      "3    5\n",
      "dtype: int64\n",
      "New index for list:\n",
      "100    a\n",
      "101    b\n",
      "102    c\n",
      "103    d\n",
      "dtype: object\n",
      "New index for list:\n",
      "b    1.0\n",
      "c    2.0\n",
      "d    NaN\n",
      "a    0.0\n",
      "dtype: float64\n"
     ]
    }
   ],
   "source": [
    "#index changing\n",
    "\n",
    "s5 = pd.Series(5, index=[0, 1, 2, 3])\n",
    "print(s5)\n",
    "\n",
    "data = np.array(['a','b','c','d'])\n",
    "s3 = pd.Series(data,index=[100,101,102,103])\n",
    "print('New index for list:')\n",
    "print(s3)\n",
    "\n",
    "print('New index for list:')\n",
    "data = {'a' : 0., 'b' : 1., 'c' : 2.}\n",
    "s4 = pd.Series(data,index=['b','c','d','a'])\n",
    "print(s4)"
   ]
  },
  {
   "cell_type": "code",
   "execution_count": 9,
   "id": "ea1b898e",
   "metadata": {},
   "outputs": [
    {
     "name": "stdout",
     "output_type": "stream",
     "text": [
      "0    5.0\n",
      "1    5.0\n",
      "2    5.0\n",
      "3    5.0\n",
      "dtype: float64\n"
     ]
    }
   ],
   "source": [
    "#data type change\n",
    "s6= pd.Series(5, index=[0, 1, 2, 3],dtype=float)\n",
    "print(s6)"
   ]
  },
  {
   "cell_type": "code",
   "execution_count": 10,
   "id": "c229c440",
   "metadata": {},
   "outputs": [
    {
     "name": "stdout",
     "output_type": "stream",
     "text": [
      "New index for list:\n",
      "100    a\n",
      "101    b\n",
      "102    c\n",
      "103    d\n",
      "Name: column1, dtype: object\n"
     ]
    }
   ],
   "source": [
    "#changing name of column\n",
    "data = np.array(['a','b','c','d'])\n",
    "s3 = pd.Series(data,index=[100,101,102,103],name='column1')\n",
    "print('New index for list:')\n",
    "print(s3)"
   ]
  },
  {
   "cell_type": "markdown",
   "id": "f95f2ac7",
   "metadata": {},
   "source": [
    "## Accessing Data from Series with Diff. Position"
   ]
  },
  {
   "cell_type": "code",
   "execution_count": 11,
   "id": "5a7b7398",
   "metadata": {},
   "outputs": [
    {
     "name": "stdout",
     "output_type": "stream",
     "text": [
      "a    1\n",
      "b    2\n",
      "c    3\n",
      "d    4\n",
      "e    5\n",
      "f    6\n",
      "dtype: int64\n"
     ]
    }
   ],
   "source": [
    "\n",
    "se1 = pd.Series([1,2,3,4,5,6],index = ['a','b','c','d','e','f'])\n",
    "print(se1)"
   ]
  },
  {
   "cell_type": "code",
   "execution_count": 12,
   "id": "5666aa2c",
   "metadata": {},
   "outputs": [
    {
     "name": "stdout",
     "output_type": "stream",
     "text": [
      "a    1\n",
      "b    2\n",
      "c    3\n",
      "dtype: int64\n"
     ]
    }
   ],
   "source": [
    "#Retrieve the first three elements in the Series\n",
    "print(se1[:3])"
   ]
  },
  {
   "cell_type": "code",
   "execution_count": 13,
   "id": "f4ea5560",
   "metadata": {},
   "outputs": [
    {
     "name": "stdout",
     "output_type": "stream",
     "text": [
      "d    4\n",
      "e    5\n",
      "f    6\n",
      "dtype: int64\n"
     ]
    }
   ],
   "source": [
    "#Retrieve the last three elements.\n",
    "print(se1[-3:])"
   ]
  },
  {
   "cell_type": "code",
   "execution_count": 14,
   "id": "529ffe09",
   "metadata": {},
   "outputs": [
    {
     "name": "stdout",
     "output_type": "stream",
     "text": [
      "for single element\n",
      "1\n",
      "for multiple elements\n",
      "a    1\n",
      "b    2\n",
      "c    3\n",
      "d    4\n",
      "dtype: int64\n"
     ]
    }
   ],
   "source": [
    "#Retrieve Data Using Label (Index)\n",
    "\n",
    "print('for single element')\n",
    "print(se1['a'])\n",
    "\n",
    "print('for multiple elements')\n",
    "print(se1[['a','b','c','d']])"
   ]
  },
  {
   "cell_type": "markdown",
   "id": "44e1dc9e",
   "metadata": {},
   "source": [
    "## Mathematical Operations"
   ]
  },
  {
   "cell_type": "code",
   "execution_count": 15,
   "id": "fd21d54e",
   "metadata": {},
   "outputs": [],
   "source": [
    "se2 = pd.Series([5,6,31,40,25,6],index = ['a','b','c','d','e','f'])\n",
    "se3 = pd.Series([2,3,4,5,5,7],index = ['a','b','c','d','e','f'])"
   ]
  },
  {
   "cell_type": "code",
   "execution_count": 16,
   "id": "0f3170dd",
   "metadata": {},
   "outputs": [
    {
     "data": {
      "text/plain": [
       "40"
      ]
     },
     "execution_count": 16,
     "metadata": {},
     "output_type": "execute_result"
    }
   ],
   "source": [
    "#maximum value in array\n",
    "max(se2)"
   ]
  },
  {
   "cell_type": "code",
   "execution_count": 17,
   "id": "854df918",
   "metadata": {},
   "outputs": [
    {
     "data": {
      "text/plain": [
       "5"
      ]
     },
     "execution_count": 17,
     "metadata": {},
     "output_type": "execute_result"
    }
   ],
   "source": [
    "#minimum values in array\n",
    "min(se2)"
   ]
  },
  {
   "cell_type": "code",
   "execution_count": 18,
   "id": "fe225fe1",
   "metadata": {},
   "outputs": [
    {
     "data": {
      "text/plain": [
       "a     7\n",
       "b     9\n",
       "c    35\n",
       "d    45\n",
       "e    30\n",
       "f    13\n",
       "dtype: int64"
      ]
     },
     "execution_count": 18,
     "metadata": {},
     "output_type": "execute_result"
    }
   ],
   "source": [
    "#addition\n",
    "se2+se3\n"
   ]
  },
  {
   "cell_type": "code",
   "execution_count": 19,
   "id": "0e2e130d",
   "metadata": {},
   "outputs": [
    {
     "data": {
      "text/plain": [
       "a     3\n",
       "b     3\n",
       "c    27\n",
       "d    35\n",
       "e    20\n",
       "f    -1\n",
       "dtype: int64"
      ]
     },
     "execution_count": 19,
     "metadata": {},
     "output_type": "execute_result"
    }
   ],
   "source": [
    "#subtraction\n",
    "se2-se3"
   ]
  },
  {
   "cell_type": "code",
   "execution_count": 20,
   "id": "7cc36771",
   "metadata": {},
   "outputs": [
    {
     "data": {
      "text/plain": [
       "a     10\n",
       "b     18\n",
       "c    124\n",
       "d    200\n",
       "e    125\n",
       "f     42\n",
       "dtype: int64"
      ]
     },
     "execution_count": 20,
     "metadata": {},
     "output_type": "execute_result"
    }
   ],
   "source": [
    "#multipliction\n",
    "se2*se3"
   ]
  },
  {
   "cell_type": "code",
   "execution_count": 21,
   "id": "f123c883",
   "metadata": {},
   "outputs": [
    {
     "data": {
      "text/plain": [
       "a    2.500000\n",
       "b    2.000000\n",
       "c    7.750000\n",
       "d    8.000000\n",
       "e    5.000000\n",
       "f    0.857143\n",
       "dtype: float64"
      ]
     },
     "execution_count": 21,
     "metadata": {},
     "output_type": "execute_result"
    }
   ],
   "source": [
    "#division\n",
    "se2/se3"
   ]
  },
  {
   "cell_type": "code",
   "execution_count": 22,
   "id": "730f45c9",
   "metadata": {},
   "outputs": [
    {
     "data": {
      "text/plain": [
       "a     5\n",
       "b     6\n",
       "c    31\n",
       "d    40\n",
       "e    25\n",
       "f     6\n",
       "dtype: int64"
      ]
     },
     "execution_count": 22,
     "metadata": {},
     "output_type": "execute_result"
    }
   ],
   "source": [
    "#print numbers which are greater than 3\n",
    "se2[se2>3] #we can perform same operations for other Comparison Operators"
   ]
  },
  {
   "cell_type": "code",
   "execution_count": null,
   "id": "97af1794",
   "metadata": {},
   "outputs": [],
   "source": []
  }
 ],
 "metadata": {
  "kernelspec": {
   "display_name": "Python 3 (ipykernel)",
   "language": "python",
   "name": "python3"
  },
  "language_info": {
   "codemirror_mode": {
    "name": "ipython",
    "version": 3
   },
   "file_extension": ".py",
   "mimetype": "text/x-python",
   "name": "python",
   "nbconvert_exporter": "python",
   "pygments_lexer": "ipython3",
   "version": "3.9.12"
  }
 },
 "nbformat": 4,
 "nbformat_minor": 5
}
